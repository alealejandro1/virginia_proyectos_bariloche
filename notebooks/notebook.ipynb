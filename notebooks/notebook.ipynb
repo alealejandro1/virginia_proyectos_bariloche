{
 "cells": [
  {
   "cell_type": "markdown",
   "id": "80b5b279",
   "metadata": {
    "ExecuteTime": {
     "end_time": "2022-02-07T06:44:16.964279Z",
     "start_time": "2022-02-07T06:44:16.960725Z"
    }
   },
   "source": [
    "*This notebook is to test various functions to speed up development of streamlit app"
   ]
  },
  {
   "cell_type": "code",
   "execution_count": 30,
   "id": "2d345c90",
   "metadata": {
    "ExecuteTime": {
     "end_time": "2022-02-07T07:03:51.535298Z",
     "start_time": "2022-02-07T07:03:51.529701Z"
    }
   },
   "outputs": [],
   "source": [
    "import pandas as pd\n",
    "import random\n",
    "from datetime import datetime"
   ]
  },
  {
   "cell_type": "code",
   "execution_count": 88,
   "id": "f9a6d2d4",
   "metadata": {
    "ExecuteTime": {
     "end_time": "2022-02-07T14:06:56.389255Z",
     "start_time": "2022-02-07T14:06:56.373148Z"
    }
   },
   "outputs": [
    {
     "data": {
      "text/html": [
       "<div>\n",
       "<style scoped>\n",
       "    .dataframe tbody tr th:only-of-type {\n",
       "        vertical-align: middle;\n",
       "    }\n",
       "\n",
       "    .dataframe tbody tr th {\n",
       "        vertical-align: top;\n",
       "    }\n",
       "\n",
       "    .dataframe thead th {\n",
       "        text-align: right;\n",
       "    }\n",
       "</style>\n",
       "<table border=\"1\" class=\"dataframe\">\n",
       "  <thead>\n",
       "    <tr style=\"text-align: right;\">\n",
       "      <th></th>\n",
       "      <th>Year</th>\n",
       "      <th>Latitude</th>\n",
       "      <th>Longitude</th>\n",
       "    </tr>\n",
       "  </thead>\n",
       "  <tbody>\n",
       "    <tr>\n",
       "      <th>0</th>\n",
       "      <td>2004</td>\n",
       "      <td>-41.064507</td>\n",
       "      <td>-71.080095</td>\n",
       "    </tr>\n",
       "    <tr>\n",
       "      <th>1</th>\n",
       "      <td>2006</td>\n",
       "      <td>-41.063625</td>\n",
       "      <td>-71.123890</td>\n",
       "    </tr>\n",
       "    <tr>\n",
       "      <th>2</th>\n",
       "      <td>2005</td>\n",
       "      <td>-41.061523</td>\n",
       "      <td>-71.126335</td>\n",
       "    </tr>\n",
       "    <tr>\n",
       "      <th>3</th>\n",
       "      <td>2005</td>\n",
       "      <td>-41.066308</td>\n",
       "      <td>-71.147641</td>\n",
       "    </tr>\n",
       "    <tr>\n",
       "      <th>4</th>\n",
       "      <td>2005</td>\n",
       "      <td>-41.066894</td>\n",
       "      <td>-71.091558</td>\n",
       "    </tr>\n",
       "    <tr>\n",
       "      <th>5</th>\n",
       "      <td>2007</td>\n",
       "      <td>-41.067882</td>\n",
       "      <td>-71.100294</td>\n",
       "    </tr>\n",
       "    <tr>\n",
       "      <th>6</th>\n",
       "      <td>2007</td>\n",
       "      <td>-41.068181</td>\n",
       "      <td>-71.089933</td>\n",
       "    </tr>\n",
       "    <tr>\n",
       "      <th>7</th>\n",
       "      <td>2005</td>\n",
       "      <td>-41.065061</td>\n",
       "      <td>-71.089780</td>\n",
       "    </tr>\n",
       "    <tr>\n",
       "      <th>8</th>\n",
       "      <td>2008</td>\n",
       "      <td>-41.066825</td>\n",
       "      <td>-71.152376</td>\n",
       "    </tr>\n",
       "    <tr>\n",
       "      <th>9</th>\n",
       "      <td>2008</td>\n",
       "      <td>-41.065547</td>\n",
       "      <td>-71.092326</td>\n",
       "    </tr>\n",
       "  </tbody>\n",
       "</table>\n",
       "</div>"
      ],
      "text/plain": [
       "   Year   Latitude  Longitude\n",
       "0  2004 -41.064507 -71.080095\n",
       "1  2006 -41.063625 -71.123890\n",
       "2  2005 -41.061523 -71.126335\n",
       "3  2005 -41.066308 -71.147641\n",
       "4  2005 -41.066894 -71.091558\n",
       "5  2007 -41.067882 -71.100294\n",
       "6  2007 -41.068181 -71.089933\n",
       "7  2005 -41.065061 -71.089780\n",
       "8  2008 -41.066825 -71.152376\n",
       "9  2008 -41.065547 -71.092326"
      ]
     },
     "execution_count": 88,
     "metadata": {},
     "output_type": "execute_result"
    }
   ],
   "source": [
    "data_size = 10\n",
    "year_range =[2004,2005,2006,2007,2008,2009]\n",
    "df = pd.DataFrame([{'Year':random.choice(year_range),'Latitude':random.random()/100-41.071,\n",
    "  'Longitude':random.random()/10-71.17} for i in range(data_size)])\n",
    "df"
   ]
  },
  {
   "cell_type": "code",
   "execution_count": 98,
   "id": "ae421f00",
   "metadata": {
    "ExecuteTime": {
     "end_time": "2022-02-07T14:08:06.243540Z",
     "start_time": "2022-02-07T14:08:05.274293Z"
    }
   },
   "outputs": [
    {
     "data": {
      "text/plain": [
       "(array([1., 1., 1., 1., 1., 1., 1., 1., 1., 2.]),\n",
       " array([2004. , 2004.4, 2004.8, 2005.2, 2005.6, 2006. , 2006.4, 2006.8,\n",
       "        2007.2, 2007.6, 2008. ]),\n",
       " <BarContainer object of 10 artists>)"
      ]
     },
     "execution_count": 98,
     "metadata": {},
     "output_type": "execute_result"
    },
    {
     "data": {
      "image/png": "[encoded data removed]",
      "text/plain": [
       "<Figure size 1152x432 with 1 Axes>"
      ]
     },
     "metadata": {
      "needs_background": "light"
     },
     "output_type": "display_data"
    }
   ],
   "source": [
    "import numpy as np\n",
    "import matplotlib.pyplot as plt\n",
    "\n",
    "fig = df.Year.hist(grid=False,xlabelsize=12,figsize=(16,6))\n",
    "plt.hist(np.histogram(df.Year)[1])"
   ]
  },
  {
   "cell_type": "code",
   "execution_count": 93,
   "id": "0fd02a75",
   "metadata": {
    "ExecuteTime": {
     "end_time": "2022-02-07T14:07:21.887540Z",
     "start_time": "2022-02-07T14:07:21.812551Z"
    }
   },
   "outputs": [
    {
     "data": {
      "text/plain": [
       "(array([1, 0, 4, 0, 0, 1, 0, 2, 0, 2]),\n",
       " array([2004. , 2004.4, 2004.8, 2005.2, 2005.6, 2006. , 2006.4, 2006.8,\n",
       "        2007.2, 2007.6, 2008. ]))"
      ]
     },
     "execution_count": 93,
     "metadata": {},
     "output_type": "execute_result"
    }
   ],
   "source": [
    "np.histogram(df.Year)"
   ]
  },
  {
   "cell_type": "code",
   "execution_count": null,
   "id": "9028438a",
   "metadata": {},
   "outputs": [],
   "source": []
  },
  {
   "cell_type": "code",
   "execution_count": null,
   "id": "03b7b188",
   "metadata": {},
   "outputs": [],
   "source": []
  },
  {
   "cell_type": "code",
   "execution_count": 62,
   "id": "d4ee3023",
   "metadata": {
    "ExecuteTime": {
     "end_time": "2022-02-07T12:44:32.077784Z",
     "start_time": "2022-02-07T12:44:32.021885Z"
    }
   },
   "outputs": [
    {
     "data": {
      "text/html": [
       "<div>\n",
       "<style scoped>\n",
       "    .dataframe tbody tr th:only-of-type {\n",
       "        vertical-align: middle;\n",
       "    }\n",
       "\n",
       "    .dataframe tbody tr th {\n",
       "        vertical-align: top;\n",
       "    }\n",
       "\n",
       "    .dataframe thead th {\n",
       "        text-align: right;\n",
       "    }\n",
       "</style>\n",
       "<table border=\"1\" class=\"dataframe\">\n",
       "  <thead>\n",
       "    <tr style=\"text-align: right;\">\n",
       "      <th></th>\n",
       "      <th>Year</th>\n",
       "      <th>Latitude</th>\n",
       "      <th>Longitude</th>\n",
       "    </tr>\n",
       "  </thead>\n",
       "  <tbody>\n",
       "    <tr>\n",
       "      <th>0</th>\n",
       "      <td>2004</td>\n",
       "      <td>-41.066616</td>\n",
       "      <td>-71.169011</td>\n",
       "    </tr>\n",
       "    <tr>\n",
       "      <th>5</th>\n",
       "      <td>2005</td>\n",
       "      <td>-41.070504</td>\n",
       "      <td>-71.085846</td>\n",
       "    </tr>\n",
       "    <tr>\n",
       "      <th>2</th>\n",
       "      <td>2006</td>\n",
       "      <td>-41.068492</td>\n",
       "      <td>-71.094686</td>\n",
       "    </tr>\n",
       "    <tr>\n",
       "      <th>8</th>\n",
       "      <td>2006</td>\n",
       "      <td>-41.064848</td>\n",
       "      <td>-71.098691</td>\n",
       "    </tr>\n",
       "    <tr>\n",
       "      <th>3</th>\n",
       "      <td>2007</td>\n",
       "      <td>-41.061395</td>\n",
       "      <td>-71.095365</td>\n",
       "    </tr>\n",
       "    <tr>\n",
       "      <th>9</th>\n",
       "      <td>2007</td>\n",
       "      <td>-41.067564</td>\n",
       "      <td>-71.111993</td>\n",
       "    </tr>\n",
       "    <tr>\n",
       "      <th>1</th>\n",
       "      <td>2009</td>\n",
       "      <td>-41.070374</td>\n",
       "      <td>-71.166388</td>\n",
       "    </tr>\n",
       "    <tr>\n",
       "      <th>4</th>\n",
       "      <td>2009</td>\n",
       "      <td>-41.062196</td>\n",
       "      <td>-71.162821</td>\n",
       "    </tr>\n",
       "    <tr>\n",
       "      <th>6</th>\n",
       "      <td>2009</td>\n",
       "      <td>-41.065851</td>\n",
       "      <td>-71.158842</td>\n",
       "    </tr>\n",
       "    <tr>\n",
       "      <th>7</th>\n",
       "      <td>2009</td>\n",
       "      <td>-41.061803</td>\n",
       "      <td>-71.121075</td>\n",
       "    </tr>\n",
       "  </tbody>\n",
       "</table>\n",
       "</div>"
      ],
      "text/plain": [
       "   Year   Latitude  Longitude\n",
       "0  2004 -41.066616 -71.169011\n",
       "5  2005 -41.070504 -71.085846\n",
       "2  2006 -41.068492 -71.094686\n",
       "8  2006 -41.064848 -71.098691\n",
       "3  2007 -41.061395 -71.095365\n",
       "9  2007 -41.067564 -71.111993\n",
       "1  2009 -41.070374 -71.166388\n",
       "4  2009 -41.062196 -71.162821\n",
       "6  2009 -41.065851 -71.158842\n",
       "7  2009 -41.061803 -71.121075"
      ]
     },
     "execution_count": 62,
     "metadata": {},
     "output_type": "execute_result"
    }
   ],
   "source": [
    "temp_df.sort_values(by='Year')"
   ]
  },
  {
   "cell_type": "code",
   "execution_count": 5,
   "id": "c9d5064b",
   "metadata": {
    "ExecuteTime": {
     "end_time": "2022-02-07T06:46:36.655018Z",
     "start_time": "2022-02-07T06:46:36.620173Z"
    }
   },
   "outputs": [
    {
     "data": {
      "text/html": [
       "<div>\n",
       "<style scoped>\n",
       "    .dataframe tbody tr th:only-of-type {\n",
       "        vertical-align: middle;\n",
       "    }\n",
       "\n",
       "    .dataframe tbody tr th {\n",
       "        vertical-align: top;\n",
       "    }\n",
       "\n",
       "    .dataframe thead th {\n",
       "        text-align: right;\n",
       "    }\n",
       "</style>\n",
       "<table border=\"1\" class=\"dataframe\">\n",
       "  <thead>\n",
       "    <tr style=\"text-align: right;\">\n",
       "      <th></th>\n",
       "      <th>Year</th>\n",
       "      <th>Lat</th>\n",
       "    </tr>\n",
       "  </thead>\n",
       "  <tbody>\n",
       "    <tr>\n",
       "      <th>0</th>\n",
       "      <td>2004</td>\n",
       "      <td>0.51</td>\n",
       "    </tr>\n",
       "    <tr>\n",
       "      <th>1</th>\n",
       "      <td>2005</td>\n",
       "      <td>0.52</td>\n",
       "    </tr>\n",
       "  </tbody>\n",
       "</table>\n",
       "</div>"
      ],
      "text/plain": [
       "   Year   Lat\n",
       "0  2004  0.51\n",
       "1  2005  0.52"
      ]
     },
     "execution_count": 5,
     "metadata": {},
     "output_type": "execute_result"
    }
   ],
   "source": [
    "pd.DataFrame([{'Year':2004,'Lat':0.51},{'Year':2005,'Lat':0.52}])"
   ]
  },
  {
   "cell_type": "code",
   "execution_count": 43,
   "id": "435f426c",
   "metadata": {
    "ExecuteTime": {
     "end_time": "2022-02-07T08:26:00.146081Z",
     "start_time": "2022-02-07T08:26:00.134685Z"
    }
   },
   "outputs": [
    {
     "data": {
      "text/plain": [
       "2022"
      ]
     },
     "execution_count": 43,
     "metadata": {},
     "output_type": "execute_result"
    }
   ],
   "source": [
    "current_year = datetime.now().date().year\n",
    "current_year"
   ]
  },
  {
   "cell_type": "code",
   "execution_count": 46,
   "id": "3f0b5d39",
   "metadata": {
    "ExecuteTime": {
     "end_time": "2022-02-07T08:30:53.554515Z",
     "start_time": "2022-02-07T08:30:53.541992Z"
    }
   },
   "outputs": [],
   "source": [
    "time_range_lower = pd.DataFrame(\n",
    "    [i for i in range(2004,\n",
    "                      datetime.now().date().year+1)])\n",
    "time_range_upper = pd.DataFrame(\n",
    "    [i for i in range(2004,\n",
    "                      datetime.now().date().year+1)])"
   ]
  },
  {
   "cell_type": "code",
   "execution_count": 49,
   "id": "3efb0527",
   "metadata": {
    "ExecuteTime": {
     "end_time": "2022-02-07T08:31:38.174750Z",
     "start_time": "2022-02-07T08:31:38.151020Z"
    }
   },
   "outputs": [
    {
     "data": {
      "text/html": [
       "<div>\n",
       "<style scoped>\n",
       "    .dataframe tbody tr th:only-of-type {\n",
       "        vertical-align: middle;\n",
       "    }\n",
       "\n",
       "    .dataframe tbody tr th {\n",
       "        vertical-align: top;\n",
       "    }\n",
       "\n",
       "    .dataframe thead th {\n",
       "        text-align: right;\n",
       "    }\n",
       "</style>\n",
       "<table border=\"1\" class=\"dataframe\">\n",
       "  <thead>\n",
       "    <tr style=\"text-align: right;\">\n",
       "      <th></th>\n",
       "      <th>0</th>\n",
       "    </tr>\n",
       "  </thead>\n",
       "  <tbody>\n",
       "    <tr>\n",
       "      <th>7</th>\n",
       "      <td>2011</td>\n",
       "    </tr>\n",
       "    <tr>\n",
       "      <th>8</th>\n",
       "      <td>2012</td>\n",
       "    </tr>\n",
       "    <tr>\n",
       "      <th>9</th>\n",
       "      <td>2013</td>\n",
       "    </tr>\n",
       "    <tr>\n",
       "      <th>10</th>\n",
       "      <td>2014</td>\n",
       "    </tr>\n",
       "    <tr>\n",
       "      <th>11</th>\n",
       "      <td>2015</td>\n",
       "    </tr>\n",
       "    <tr>\n",
       "      <th>12</th>\n",
       "      <td>2016</td>\n",
       "    </tr>\n",
       "    <tr>\n",
       "      <th>13</th>\n",
       "      <td>2017</td>\n",
       "    </tr>\n",
       "    <tr>\n",
       "      <th>14</th>\n",
       "      <td>2018</td>\n",
       "    </tr>\n",
       "    <tr>\n",
       "      <th>15</th>\n",
       "      <td>2019</td>\n",
       "    </tr>\n",
       "    <tr>\n",
       "      <th>16</th>\n",
       "      <td>2020</td>\n",
       "    </tr>\n",
       "    <tr>\n",
       "      <th>17</th>\n",
       "      <td>2021</td>\n",
       "    </tr>\n",
       "    <tr>\n",
       "      <th>18</th>\n",
       "      <td>2022</td>\n",
       "    </tr>\n",
       "  </tbody>\n",
       "</table>\n",
       "</div>"
      ],
      "text/plain": [
       "       0\n",
       "7   2011\n",
       "8   2012\n",
       "9   2013\n",
       "10  2014\n",
       "11  2015\n",
       "12  2016\n",
       "13  2017\n",
       "14  2018\n",
       "15  2019\n",
       "16  2020\n",
       "17  2021\n",
       "18  2022"
      ]
     },
     "execution_count": 49,
     "metadata": {},
     "output_type": "execute_result"
    }
   ],
   "source": [
    "time_range_upper[time_range_upper[0]>2010]"
   ]
  }
 ],
 "metadata": {
  "kernelspec": {
   "display_name": "Python 3 (ipykernel)",
   "language": "python",
   "name": "python3"
  },
  "language_info": {
   "codemirror_mode": {
    "name": "ipython",
    "version": 3
   },
   "file_extension": ".py",
   "mimetype": "text/x-python",
   "name": "python",
   "nbconvert_exporter": "python",
   "pygments_lexer": "ipython3",
   "version": "3.8.6"
  },
  "latex_envs": {
   "LaTeX_envs_menu_present": true,
   "autoclose": false,
   "autocomplete": true,
   "bibliofile": "biblio.bib",
   "cite_by": "apalike",
   "current_citInitial": 1,
   "eqLabelWithNumbers": true,
   "eqNumInitial": 1,
   "hotkeys": {
    "equation": "Ctrl-E",
    "itemize": "Ctrl-I"
   },
   "labels_anchors": false,
   "latex_user_defs": false,
   "report_style_numbering": false,
   "user_envs_cfg": false
  },
  "toc": {
   "base_numbering": 1,
   "nav_menu": {},
   "number_sections": true,
   "sideBar": true,
   "skip_h1_title": false,
   "title_cell": "Table of Contents",
   "title_sidebar": "Contents",
   "toc_cell": false,
   "toc_position": {},
   "toc_section_display": true,
   "toc_window_display": false
  }
 },
 "nbformat": 4,
 "nbformat_minor": 5
}
